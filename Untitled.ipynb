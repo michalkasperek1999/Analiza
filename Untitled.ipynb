{
 "cells": [
  {
   "cell_type": "code",
   "execution_count": 29,
   "id": "9e0914e8-4d98-4338-8e67-a5db19b43f6d",
   "metadata": {},
   "outputs": [],
   "source": [
    "import matplotlib.pyplot as plt\n",
    "import pandas as pd\n",
    "import numpy as np\n",
    "import os\n",
    "import shutil"
   ]
  },
  {
   "cell_type": "code",
   "execution_count": 15,
   "id": "7528bf5b-f72d-445f-8c2c-29d5f404a1d3",
   "metadata": {},
   "outputs": [],
   "source": [
    "drink=pd.read_csv(\"drinks.csv\")"
   ]
  },
  {
   "cell_type": "code",
   "execution_count": 22,
   "id": "0cbeb36e-c66e-460a-8151-e38c8f48bde2",
   "metadata": {},
   "outputs": [
    {
     "name": "stdout",
     "output_type": "stream",
     "text": [
      "/home/student/Metody Numeryczne/Kasp_Mich\n",
      "Directory  Original Data  Created \n"
     ]
    }
   ],
   "source": [
    "print(os.getcwd())\n",
    "dirName = 'Original Data'\n",
    "try:\n",
    "    # Create target Directory\n",
    "    os.mkdir(dirName)\n",
    "    print(\"Directory \" , dirName ,  \" Created \") \n",
    "except FileExistsError:\n",
    "    print(\"Directory \" , dirName ,  \" already exists\")"
   ]
  },
  {
   "cell_type": "code",
   "execution_count": 23,
   "id": "365bf10a-7644-4c29-b7a3-ee13c1770ba1",
   "metadata": {},
   "outputs": [
    {
     "name": "stdout",
     "output_type": "stream",
     "text": [
      "/home/student/Metody Numeryczne/Kasp_Mich\n",
      "Directory  Documents  Created \n"
     ]
    }
   ],
   "source": [
    "print(os.getcwd())\n",
    "dirName = 'Documents'\n",
    "try:\n",
    "    # Create target Directory\n",
    "    os.mkdir(dirName)\n",
    "    print(\"Directory \" , dirName ,  \" Created \") \n",
    "except FileExistsError:\n",
    "    print(\"Directory \" , dirName ,  \" already exists\")"
   ]
  },
  {
   "cell_type": "code",
   "execution_count": 24,
   "id": "4ef890bc-16a1-4b86-a1e7-6159f0f861b7",
   "metadata": {},
   "outputs": [
    {
     "name": "stdout",
     "output_type": "stream",
     "text": [
      "/home/student/Metody Numeryczne/Kasp_Mich\n",
      "Directory  Analysis Data  Created \n"
     ]
    }
   ],
   "source": [
    "print(os.getcwd())\n",
    "dirName = 'Analysis Data'\n",
    "try:\n",
    "    # Create target Directory\n",
    "    os.mkdir(dirName)\n",
    "    print(\"Directory \" , dirName ,  \" Created \") \n",
    "except FileExistsError:\n",
    "    print(\"Directory \" , dirName ,  \" already exists\")"
   ]
  },
  {
   "cell_type": "code",
   "execution_count": 25,
   "id": "c5eba76c-4619-4ea7-a148-8cd22bd56a92",
   "metadata": {},
   "outputs": [
    {
     "name": "stdout",
     "output_type": "stream",
     "text": [
      "/home/student/Metody Numeryczne/Kasp_Mich\n",
      "Directory  Command files  Created \n"
     ]
    }
   ],
   "source": [
    "print(os.getcwd())\n",
    "dirName = 'Command files'\n",
    "try:\n",
    "    # Create target Directory\n",
    "    os.mkdir(dirName)\n",
    "    print(\"Directory \" , dirName ,  \" Created \") \n",
    "except FileExistsError:\n",
    "    print(\"Directory \" , dirName ,  \" already exists\")"
   ]
  },
  {
   "cell_type": "code",
   "execution_count": 27,
   "id": "0c11dd28-8bb3-472f-a9c8-205a3272fae6",
   "metadata": {},
   "outputs": [],
   "source": [
    "drink=drink.drop(columns=['total_litres_of_pure_alcohol'])"
   ]
  },
  {
   "cell_type": "code",
   "execution_count": 30,
   "id": "23fb81d1-c483-4aba-9a93-ebfb4657cd25",
   "metadata": {},
   "outputs": [],
   "source": [
    "# Source path \n",
    "source = 'drinks.csv'\n",
    "  \n",
    "# Destination path \n",
    "destination = '/home/student/Metody Numeryczne/Kasp_Mich/Original Data'\n",
    "  \n",
    "# Move the content of \n",
    "# source to destination \n",
    "dest = shutil.move(source, destination)"
   ]
  },
  {
   "cell_type": "code",
   "execution_count": null,
   "id": "50c3aed5-8860-4ba1-9a9d-506064311f96",
   "metadata": {},
   "outputs": [],
   "source": []
  }
 ],
 "metadata": {
  "kernelspec": {
   "display_name": "Python 3.8.8 64-bit ('base': conda)",
   "language": "python",
   "name": "python388jvsc74a57bd01448b48b023bcc9c3d4a79e814720a10ca6d4244f75e0f7ce4af58f96ba2b7d3"
  },
  "language_info": {
   "codemirror_mode": {
    "name": "ipython",
    "version": 3
   },
   "file_extension": ".py",
   "mimetype": "text/x-python",
   "name": "python",
   "nbconvert_exporter": "python",
   "pygments_lexer": "ipython3",
   "version": "3.8.8"
  }
 },
 "nbformat": 4,
 "nbformat_minor": 5
}
